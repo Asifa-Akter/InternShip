{
 "cells": [
  {
   "cell_type": "markdown",
   "metadata": {},
   "source": [
    "scrape_the_salsePerson_name\n"
   ]
  },
  {
   "cell_type": "code",
   "execution_count": 134,
   "metadata": {},
   "outputs": [
    {
     "name": "stdout",
     "output_type": "stream",
     "text": [
      "Seller Name: SUPERBE BEBE®\n"
     ]
    }
   ],
   "source": [
    "from selenium import webdriver\n",
    "from bs4 import BeautifulSoup\n",
    "\n",
    "# Set up Chrome WebDriver with Selenium\n",
    "options = webdriver.ChromeOptions()\n",
    "options.add_argument(\"--headless\")  # Run Chrome in headless mode\n",
    "driver = webdriver.Chrome(options=options)\n",
    "\n",
    "# Navigate to the desired Amazon product page\n",
    "product_url = \"https://www.amazon.it/dp/B0B9HS2YCW\"  # Replace with the desired product URL\n",
    "driver.get(product_url)\n",
    "\n",
    "# Extract the page source after the page is loaded\n",
    "html = driver.page_source\n",
    "\n",
    "# Close the Selenium WebDriver\n",
    "driver.quit()\n",
    "\n",
    "# Parse the page source using BeautifulSoup\n",
    "soup = BeautifulSoup(html, 'html.parser')\n",
    "\n",
    "# Find the seller name from the Buy Box\n",
    "seller_element = soup.find('a', {'id': 'sellerProfileTriggerId'})\n",
    "\n",
    "if seller_element is not None:\n",
    "    seller_name = seller_element.get_text(strip=True)\n",
    "    print(\"Seller Name:\", seller_name)\n",
    "else:\n",
    "    print(\"Salesperson: Amazon\")\n",
    "\n",
    "\n",
    "    \n"
   ]
  },
  {
   "cell_type": "code",
   "execution_count": 10,
   "metadata": {},
   "outputs": [
    {
     "name": "stdout",
     "output_type": "stream",
     "text": [
      "ASIN: B0B9HS2YCW, Seller Name: SUPERBE BEBE®\n",
      "ASIN: B072J2J6GZ, Seller Name: Amazon\n",
      "ASIN: B07DM7DWJF, Seller Name: ALENYK\n"
     ]
    }
   ],
   "source": [
    "from selenium import webdriver\n",
    "from bs4 import BeautifulSoup\n",
    "\n",
    "def get_seller_names(asins):\n",
    "    # Set up Chrome WebDriver with Selenium\n",
    "    options = webdriver.ChromeOptions()\n",
    "    options.add_argument(\"--headless\")  # Run Chrome in headless mode\n",
    "    driver = webdriver.Chrome(options=options)\n",
    "\n",
    "    seller_names = {}\n",
    "\n",
    "    for asin in asins:\n",
    "        # Navigate to the desired Amazon product page\n",
    "        product_url = f\"https://www.amazon.it/dp/{asin}\"  # Use string formatting to replace {asin}\n",
    "        driver.get(product_url)\n",
    "\n",
    "        # Extract the page source after the page is loaded\n",
    "        html = driver.page_source\n",
    "\n",
    "        # Parse the page source using BeautifulSoup\n",
    "        soup = BeautifulSoup(html, 'html.parser')\n",
    "\n",
    "        # Find the seller name from the Buy Box\n",
    "        seller_element = soup.find('a', {'id': 'sellerProfileTriggerId'})\n",
    "\n",
    "        if seller_element is not None:\n",
    "            seller_name = seller_element.get_text(strip=True)\n",
    "            seller_names[asin] = seller_name\n",
    "        else:\n",
    "            seller_names[asin] = \"Amazon\"\n",
    "\n",
    "    # Close the Selenium WebDriver\n",
    "    driver.quit()\n",
    "\n",
    "    return seller_names\n",
    "\n",
    "# Example usage\n",
    "asins = ['B0B9HS2YCW', 'B072J2J6GZ', 'B07DM7DWJF']\n",
    "result = get_seller_names(asins)\n",
    "\n",
    "# Print the seller names\n",
    "for asin, seller_name in result.items():\n",
    "    print(f\"ASIN: {asin}, Seller Name: {seller_name}\")\n"
   ]
  },
  {
   "cell_type": "markdown",
   "metadata": {},
   "source": []
  },
  {
   "cell_type": "code",
   "execution_count": 4,
   "metadata": {},
   "outputs": [],
   "source": [
    "import csv\n",
    "from selenium import webdriver\n",
    "from bs4 import BeautifulSoup\n",
    "\n",
    "def get_seller_names(asins):\n",
    "    # Set up Chrome WebDriver with Selenium\n",
    "    options = webdriver.ChromeOptions()\n",
    "    options.add_argument(\"--headless\")  # Run Chrome in headless mode\n",
    "    driver = webdriver.Chrome(options=options)\n",
    "\n",
    "    seller_names = {}\n",
    "\n",
    "    for asin in asins:\n",
    "        # Navigate to the desired Amazon product page\n",
    "        product_url = f\"https://www.amazon.it/dp/{asin}\"  # Use string formatting to replace {asin}\n",
    "        driver.get(product_url)\n",
    "\n",
    "        # Extract the page source after the page is loaded\n",
    "        html = driver.page_source\n",
    "\n",
    "        # Parse the page source using BeautifulSoup\n",
    "        soup = BeautifulSoup(html, 'html.parser')\n",
    "\n",
    "        # Find the seller name from the Buy Box\n",
    "        seller_element = soup.find('a', {'id': 'sellerProfileTriggerId'})\n",
    "\n",
    "        if seller_element is not None:\n",
    "            seller_name = seller_element.get_text(strip=True)\n",
    "            seller_names[asin] = seller_name\n",
    "        else:\n",
    "            seller_names[asin] = \"Amazon\"\n",
    "\n",
    "    # Close the Selenium WebDriver\n",
    "    driver.quit()\n",
    "\n",
    "    return seller_names\n",
    "\n",
    "# Read ASINs from CSV file\n",
    "def read_asins_from_csv(filename):\n",
    "    asins = []\n",
    "    with open(filename, 'r') as csv_file:\n",
    "        csv_reader = csv.reader(csv_file)\n",
    "        next(csv_reader)\n",
    "        for row in csv_reader:\n",
    "            asins.extend(row)\n",
    "    return asins\n",
    "\n",
    "# Write seller names to CSV file\n",
    "def write_seller_names_to_csv(filename, seller_names):\n",
    "    with open(filename, 'w', newline='') as csv_file:\n",
    "        csv_writer = csv.writer(csv_file)\n",
    "        csv_writer.writerow(['ASIN', 'Seller Name'])\n",
    "        for asin, seller_name in seller_names.items():\n",
    "            csv_writer.writerow([asin, seller_name])\n",
    "\n",
    "# Example usage\n",
    "input_csv = '/Users/asifa/Desktop/Asifa Growers/buyboxMonitor/uniqueInputs.csv'\n",
    "output_csv = '/Users/asifa/Desktop/Asifa Growers/buyboxMonitor/outputnew.csv'\n",
    "asin_column_name = 'ASIN'  # Specify the column name for ASINs in the CSV\n",
    "\n",
    "asins = read_asins_from_csv(input_csv)\n",
    "seller_names = get_seller_names(asins)\n",
    "write_seller_names_to_csv(output_csv, seller_names)\n"
   ]
  },
  {
   "cell_type": "markdown",
   "metadata": {},
   "source": []
  },
  {
   "cell_type": "code",
   "execution_count": 2,
   "metadata": {},
   "outputs": [],
   "source": []
  },
  {
   "cell_type": "code",
   "execution_count": 122,
   "metadata": {},
   "outputs": [
    {
     "name": "stdout",
     "output_type": "stream",
     "text": [
      "Failed to retrieve product details.\n"
     ]
    }
   ],
   "source": []
  },
  {
   "cell_type": "code",
   "execution_count": 123,
   "metadata": {},
   "outputs": [
    {
     "name": "stdout",
     "output_type": "stream",
     "text": [
      "Salesperson not found\n"
     ]
    }
   ],
   "source": []
  }
 ],
 "metadata": {
  "kernelspec": {
   "display_name": "Python 3",
   "language": "python",
   "name": "python3"
  },
  "language_info": {
   "codemirror_mode": {
    "name": "ipython",
    "version": 3
   },
   "file_extension": ".py",
   "mimetype": "text/x-python",
   "name": "python",
   "nbconvert_exporter": "python",
   "pygments_lexer": "ipython3",
   "version": "3.11.4"
  },
  "orig_nbformat": 4
 },
 "nbformat": 4,
 "nbformat_minor": 2
}
