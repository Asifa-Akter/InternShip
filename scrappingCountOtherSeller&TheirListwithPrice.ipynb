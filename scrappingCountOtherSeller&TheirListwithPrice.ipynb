{
 "cells": [
  {
   "cell_type": "code",
   "execution_count": null,
   "metadata": {},
   "outputs": [],
   "source": []
  },
  {
   "cell_type": "code",
   "execution_count": null,
   "metadata": {},
   "outputs": [],
   "source": []
  },
  {
   "cell_type": "code",
   "execution_count": null,
   "metadata": {},
   "outputs": [],
   "source": []
  },
  {
   "cell_type": "code",
   "execution_count": null,
   "metadata": {},
   "outputs": [],
   "source": []
  },
  {
   "cell_type": "code",
   "execution_count": 38,
   "metadata": {},
   "outputs": [
    {
     "name": "stdout",
     "output_type": "stream",
     "text": [
      "Number of Other Sellers: 7\n",
      "Seller Name: Parafarmacia Tuscolana\n"
     ]
    }
   ],
   "source": [
    "from selenium import webdriver\n",
    "from bs4 import BeautifulSoup\n",
    "\n",
    "def get_other_sellers_and_name(asin):\n",
    "    # Set up Chrome WebDriver with Selenium\n",
    "    options = webdriver.ChromeOptions()\n",
    "    options.add_argument(\"--headless\")  # Run Chrome in headless mode\n",
    "    driver = webdriver.Chrome(options=options)\n",
    "\n",
    "    # Navigate to the desired Amazon product page\n",
    "    other_sellers_url = f\"https://www.amazon.it/dp/{asin}/ref=olp-opf-redir?aod=1&ie=UTF8&condition=NEW&th=1\"\n",
    "    driver.get(other_sellers_url)\n",
    "\n",
    "    # Extract the page source after the page is loaded\n",
    "    html = driver.page_source\n",
    "\n",
    "    # Close the Selenium WebDriver\n",
    "    driver.quit()\n",
    "\n",
    "    # Parse the page source using BeautifulSoup\n",
    "    soup = BeautifulSoup(html, 'html.parser')\n",
    "\n",
    "    # Find the input element with id=\"aod-total-offer-count\"\n",
    "    input_element = soup.find('input', {'id': 'aod-total-offer-count'})\n",
    "\n",
    "    # Get the value attribute of the input element to get the number of other sellers\n",
    "    num_other_sellers = int(input_element.get('value', '0'))\n",
    "\n",
    "    # Find the seller name from the Buy Box\n",
    "    seller_element = soup.find('a', {'id': 'sellerProfileTriggerId'})\n",
    "\n",
    "    if seller_element is not None:\n",
    "        seller_name = seller_element.get_text(strip=True)\n",
    "    else:\n",
    "        seller_name = \"Amazon\"\n",
    "\n",
    "    return num_other_sellers, seller_name\n",
    "\n",
    "# Example usage\n",
    "asin = \"B08V2N4VXY\"\n",
    "num_sellers, seller_name = get_other_sellers_and_name(asin)\n",
    "\n",
    "print(f\"Number of Other Sellers: {num_sellers}\")\n",
    "print(f\"Seller Name: {seller_name}\")\n"
   ]
  }
 ],
 "metadata": {
  "kernelspec": {
   "display_name": "Python 3",
   "language": "python",
   "name": "python3"
  },
  "language_info": {
   "codemirror_mode": {
    "name": "ipython",
    "version": 3
   },
   "file_extension": ".py",
   "mimetype": "text/x-python",
   "name": "python",
   "nbconvert_exporter": "python",
   "pygments_lexer": "ipython3",
   "version": "3.11.4"
  },
  "orig_nbformat": 4
 },
 "nbformat": 4,
 "nbformat_minor": 2
}
